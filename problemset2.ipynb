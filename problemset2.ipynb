{
 "cells": [
  {
   "cell_type": "markdown",
   "id": "7bf442b4",
   "metadata": {},
   "source": [
    "Question 1\n",
    "\n",
    "In this code, 'a' is a global variable. When the function is called each time, 2 is being added. Function has been called for 3 times so value of 'a' is 6."
   ]
  },
  {
   "cell_type": "code",
   "execution_count": 2,
   "id": "d396829a",
   "metadata": {},
   "outputs": [
    {
     "name": "stdout",
     "output_type": "stream",
     "text": [
      "6\n"
     ]
    }
   ],
   "source": [
    "a=0\n",
    "def b():\n",
    "    global a\n",
    "    a = c(a)\n",
    "\n",
    "\n",
    "def c(a):\n",
    "    return a + 2\n",
    "\n",
    "\n",
    "b()\n",
    "b()\n",
    "b()\n",
    "print(a)"
   ]
  },
  {
   "cell_type": "markdown",
   "id": "8ef154ee",
   "metadata": {},
   "source": [
    "Question 2"
   ]
  },
  {
   "cell_type": "code",
   "execution_count": 5,
   "id": "f8bd691b",
   "metadata": {},
   "outputs": [
    {
     "name": "stdout",
     "output_type": "stream",
     "text": [
      "123\n",
      "File C:/Users/14379/Downloads/ileLength.txt not found.\n"
     ]
    }
   ],
   "source": [
    "def file_length(Filename):\n",
    "    # reads data\n",
    "    try:\n",
    "        f = open(Filename, 'r')\n",
    "        # reads all the lines as a text\n",
    "        Data = f.read()\n",
    "        Result = len(Data)\n",
    "        f.close()\n",
    "        return Result\n",
    "    except FileNotFoundError:\n",
    "        return \"File {} not found.\".format(Filename)\n",
    "\n",
    "\n",
    "print(file_length('C:/Users/14379/Downloads/FileLength.txt'))\n",
    "print(file_length('C:/Users/14379/Downloads/ileLength.txt'))"
   ]
  },
  {
   "cell_type": "markdown",
   "id": "f2d9a066",
   "metadata": {},
   "source": [
    "Question 3"
   ]
  },
  {
   "cell_type": "code",
   "execution_count": 4,
   "id": "1bf26e5c",
   "metadata": {},
   "outputs": [
    {
     "name": "stdout",
     "output_type": "stream",
     "text": [
      "I am a Kangaroo located at coordinates (0,0)\n",
      "['doll', 'firetruck', 'kitten']\n",
      "I am a Kangaroo located at coordinates (3,0)\n"
     ]
    }
   ],
   "source": [
    "class Marsupial:\n",
    "    # the constructor\n",
    "    def __init__(self, x, y):\n",
    "        # the pouch as a list\n",
    "        self.pouch = []\n",
    "\n",
    "    # appends the item to list\n",
    "    def put_in_pouch(self, item):\n",
    "        self.pouch = self.pouch + [item]\n",
    "\n",
    "    # returns the pouch\n",
    "    def pouch_contents(self):\n",
    "        return self.pouch\n",
    "\n",
    "    def __str__(self):\n",
    "        item = \"\"\n",
    "        # if more than 1 item in pouch\n",
    "        if len(self.pouch) > 1:\n",
    "            # loops over the pouch\n",
    "            for i in range(len(self.pouch) - 1):\n",
    "                item = item + self.pouch[i] + \", \"\n",
    "                item = item + \"and \"\n",
    "                # adds the last item\n",
    "                item = item + self.pouch[-1] + \".\"\n",
    "\n",
    "\n",
    "class Kangaroo(Marsupial):\n",
    "    #extends the Marsupial __init__ Constructor\n",
    "    def __init__(self, x, y):\n",
    "        super().__init__(x, y)\n",
    "        self.dx = 0\n",
    "        self.dy = 0\n",
    "    #defines the jump function\n",
    "    def jump(self, x, y):\n",
    "        self.dx += x\n",
    "        self.dy += y\n",
    "    #overloads __str__ operator\n",
    "    def __str__(self):\n",
    "        return \"I am a Kangaroo located at coordinates ({},{})\".format(self.dx, self.dy)\n",
    "\n",
    "\n",
    "k = Kangaroo(0, 0)\n",
    "print(k)\n",
    "k.put_in_pouch('doll')\n",
    "k.put_in_pouch('firetruck')\n",
    "k.put_in_pouch('kitten')\n",
    "print(k.pouch_contents())\n",
    "k.jump(1, 0)\n",
    "k.jump(1, 0)\n",
    "k.jump(1, 0)\n",
    "print(k)\n"
   ]
  },
  {
   "cell_type": "markdown",
   "id": "7ac4dc7c",
   "metadata": {},
   "source": [
    "Question 4"
   ]
  },
  {
   "cell_type": "code",
   "execution_count": null,
   "id": "ddb4cf53",
   "metadata": {},
   "outputs": [],
   "source": [
    "try:\n",
    "    def Collatz (x):\n",
    "        if(x != 1):\n",
    "            print(x ,end ='\\n')\n",
    "        if(x == 1):\n",
    "            print(x ,end ='\\n')\n",
    "            return x\n",
    "        if(x%2 == 0):\n",
    "            x = x // 2\n",
    "            Collatz(x)\n",
    "        else:\n",
    "            x= 3*x + 1\n",
    "            Collatz(x)\n",
    "\n",
    "\n",
    "    Collatz(1)\n",
    "    Collatz(10)\n",
    "except Exception as e:\n",
    "    print(\"Oops!\", e.__class__, \"error occurred.\")"
   ]
  },
  {
   "cell_type": "markdown",
   "id": "e7012bef",
   "metadata": {},
   "source": [
    "Question 5\n"
   ]
  },
  {
   "cell_type": "code",
   "execution_count": 2,
   "id": "f8379417",
   "metadata": {},
   "outputs": [
    {
     "name": "stdout",
     "output_type": "stream",
     "text": [
      "0\n",
      "1\n",
      "11\n",
      "1001\n"
     ]
    }
   ],
   "source": [
    "try:    \n",
    "    decToBin =\"\"\n",
    "    def binary (n):\n",
    "        global decToBin\n",
    "        #if the input is not 1\n",
    "        if(n!=1): \n",
    "            if(n==0):\n",
    "                print(\"0\")\n",
    "            else:\n",
    "                x=\"\"\n",
    "                remainder = int(n%2)\n",
    "                x =str(remainder)\n",
    "                decToBin += x\n",
    "                n =int(n/2)\n",
    "                binary(n)\n",
    "        else:\n",
    "            decToBin += \"1\"\n",
    "            decToBin = decToBin [::-1]\n",
    "            print(decToBin)\n",
    "            decToBin=\"\"\n",
    "\n",
    "    binary(0)\n",
    "    binary(1)\n",
    "    binary(3)\n",
    "    binary(9)\n",
    "except Exception as e:\n",
    "    print(\"Oops!\", e.__class__, \"occurred.\") "
   ]
  },
  {
   "cell_type": "markdown",
   "id": "130b4d67",
   "metadata": {},
   "source": [
    "Question 6"
   ]
  },
  {
   "cell_type": "code",
   "execution_count": 16,
   "id": "274b2669",
   "metadata": {},
   "outputs": [
    {
     "name": "stdout",
     "output_type": "stream",
     "text": [
      "W3C Mission\n",
      "\tPrinciples\n"
     ]
    }
   ],
   "source": [
    "from html.parser import HTMLParser\n",
    "t1='False'\n",
    "t2='False'\n",
    "#inherit from html parser\n",
    "class HeadingParser(HTMLParser):\n",
    "    #handling the functions\n",
    "    def handle_starttag(self, tag, attrs):\n",
    "        if tag == 'h1':\n",
    "            global t1\n",
    "            t1 = \"True\"\n",
    "        if tag == 'h2':\n",
    "            global t2\n",
    "            t2 = \"True\"  \n",
    "    def handle_endtag(self, tag):\n",
    "        if t1 == \"False\":\n",
    "            pass\n",
    "        if t2 == \"False\":\n",
    "            pass\n",
    "    def handle_data(self, Data):\n",
    "        global t1,t2\n",
    "        if t1 == \"True\": \n",
    "            print(Data)\n",
    "            t1='False'    \n",
    "        if t2 == \"True\":        \n",
    "            print('\\t',end='')\n",
    "            print(Data)\n",
    "            t2 = 'False'\n",
    "InFile = open('w3c.html') \n",
    "Contents = InFile.read() \n",
    "InFile.close() \n",
    "hp = HeadingParser() \n",
    "hp.feed(Contents) "
   ]
  },
  {
   "cell_type": "markdown",
   "id": "ff2c879e",
   "metadata": {},
   "source": [
    "Question 7"
   ]
  },
  {
   "cell_type": "code",
   "execution_count": 6,
   "id": "caad823d",
   "metadata": {},
   "outputs": [
    {
     "name": "stdout",
     "output_type": "stream",
     "text": [
      "http://reed.cs.depaul.edu/lperkovic/test1.html\n",
      " http://reed.cs.depaul.edu/lperkovic/test2.html\n",
      "  http://reed.cs.depaul.edu/lperkovic/test4.html\n",
      " http://reed.cs.depaul.edu/lperkovic/test3.html\n",
      "  http://reed.cs.depaul.edu/lperkovic/test4.html\n"
     ]
    }
   ],
   "source": [
    "from urllib.request import urlopen\n",
    "from urllib.parse import urljoin\n",
    "from html.parser import HTMLParser\n",
    "\n",
    "class MainFunction(HTMLParser):\n",
    "\n",
    "    def __init__(self, get_URL):\n",
    "\n",
    "        HTMLParser.__init__(self)\n",
    "        self.GivenURL = get_URL\n",
    "        self.accessible_Links = []\n",
    "        \n",
    "    def GetLinks(self):\n",
    "        return self.accessible_Links\n",
    "\n",
    "    def handle_starttag(self, tag, attrs):\n",
    "        if tag == 'a':\n",
    "            for attr in attrs:          \n",
    "                if attr[0] == 'href': \n",
    "                    absolute = urljoin(self.GivenURL, attr[1])\n",
    "                    if absolute[:4] == 'http':\n",
    "                        self.accessible_Links.append(absolute)\n",
    "\n",
    "\n",
    "All_Links = []\n",
    "def webdir(get_URL,depth,indent):\n",
    "    global All_Links\n",
    "    result = urlopen(get_URL)\n",
    "    content = result.read().decode()\n",
    "    a =MainFunction(get_URL)\n",
    "    a.feed(content)\n",
    "    All_Links = a.GetLinks()\n",
    "    print(indent*\" \" + get_URL)\n",
    "    if depth == 0:\n",
    "         return \n",
    "    for i in All_Links: \n",
    "        webdir(i, depth-1, indent+1)    \n",
    "\n",
    "\n",
    "webdir('http://reed.cs.depaul.edu/lperkovic/test1.html',2,0)"
   ]
  },
  {
   "cell_type": "markdown",
   "id": "ed5caf9b",
   "metadata": {},
   "source": [
    "Question 8"
   ]
  },
  {
   "cell_type": "code",
   "execution_count": 28,
   "id": "6ddce564",
   "metadata": {},
   "outputs": [
    {
     "name": "stdout",
     "output_type": "stream",
     "text": [
      "(24.8,)(28.4,)(27.9,)(27.6,)(4.2,)(8.3,)(15.7,)(10.4,)(13.6,)(20.7,)(27.7,)(22.2,)\n",
      "('Mumbai',)('London',)('Cairo',)\n",
      "('Mumbai', 'India', 'Winter', 24.8, 5.9)('Mumbai', 'India', 'Spring', 28.4, 16.2)('Mumbai', 'India', 'Summer', 27.9, 1549.4)('Mumbai', 'India', 'Fall', 27.6, 346)\n",
      "('Mumbai', 'India', 'Fall', 27.6, 346)('London', 'United Kingdom', 'Fall', 10.4, 218.5)('Cairo', 'Egypt', 'Fall', 22.2, 4.5)\n",
      "('Mumbai', 'India', 'Fall')('London', 'United Kingdom', 'Winter')('London', 'United Kingdom', 'Fall')\n",
      "('Cairo', 'Egypt')('Mumbai', 'India')\n",
      "(27.6,)\n",
      "('Fall', 569.0)('Spring', 192.29999999999998)('Summer', 1706.5)('Winter', 230.1)"
     ]
    }
   ],
   "source": [
    "import sqlite3\n",
    "conn = sqlite3.connect('try.db')\n",
    "conn.execute('''\n",
    "CREATE TABLE IF NOT EXISTS periodic_data(City text, \n",
    "                      Country text, \n",
    "                      Season integer, \n",
    "                      Temperature integer,\n",
    "                      Rainfall integer);''')\n",
    "conn.commit()\n",
    "my_table = conn.cursor()\n",
    "conn.execute(\"INSERT INTO Periodic_data VALUES('Mumbai', 'India', 'Winter', 24.8, 5.9);\")\n",
    "conn.execute(\"INSERT INTO Periodic_data VALUES('Mumbai', 'India', 'Spring', 28.4, 16.2);\")\n",
    "conn.execute(\"INSERT INTO Periodic_data VALUES('Mumbai', 'India', 'Summer', 27.9, 1549.4);\")\n",
    "conn.execute(\"INSERT INTO Periodic_data VALUES('Mumbai', 'India', 'Fall', 27.6, 346.0);\")\n",
    "conn.execute(\"INSERT INTO Periodic_data VALUES('London', 'United Kingdom', 'Winter', 4.2, 207.7);\")\n",
    "conn.execute(\"INSERT INTO Periodic_data VALUES('London', 'United Kingdom', 'Spring', 8.3, 169.6 );\")\n",
    "conn.execute(\"INSERT INTO Periodic_data VALUES('London', 'United Kingdom', 'Summer', 15.7, 157.0);\")\n",
    "conn.execute(\"INSERT INTO Periodic_data VALUES('London', 'United Kingdom', 'Fall', 10.4, 218.5);\")\n",
    "conn.execute(\"INSERT INTO Periodic_data VALUES('Cairo', 'Egypt', 'Winter', 13.6, 16.5);\")\n",
    "conn.execute(\"INSERT INTO Periodic_data VALUES('Cairo', 'Egypt', 'Spring', 20.7, 6.5);\")\n",
    "conn.execute(\"INSERT INTO Periodic_data VALUES('Cairo', 'Egypt', 'Summer', 27.7, 0.1);\")\n",
    "conn.execute(\"INSERT INTO Periodic_data VALUES('Cairo', 'Egypt', 'Fall', 22.2, 4.5);\")\n",
    "\n",
    "#a)\n",
    "my_table.execute(\"SELECT Temperature from Periodic_data\")\n",
    "results =my_table.fetchall()             \n",
    "for x in results:\n",
    "  print(x, end=\"\")\n",
    "\n",
    "print()\n",
    "\n",
    "#b)\n",
    "my_table.execute(\"SELECT DISTINCT(City) from Periodic_data\")\n",
    "results = my_table.fetchall()\n",
    "for x in results:                          \n",
    "  print(x, end=\"\")\n",
    "\n",
    "print()\n",
    "\n",
    "#c)\n",
    "my_table.execute(\"SELECT * from Periodic_data where Country = 'India'\")\n",
    "results = my_table.fetchall()\n",
    "for x in results:                             \n",
    "  print(x, end=\"\")\n",
    "\n",
    "print()\n",
    "\n",
    "#d)\n",
    "my_table.execute(\"SELECT * from Periodic_data where Season = 'Fall'\")\n",
    "results = my_table.fetchall()\n",
    "for x in results:                             \n",
    "  print(x, end=\"\")\n",
    "\n",
    "print()\n",
    "\n",
    "#e)\n",
    "my_table.execute(\"SELECT City,Country,Season from Periodic_data where Rainfall BETWEEN 200 and 400\")\n",
    "results = my_table.fetchall()\n",
    "for x in results:                                 \n",
    "  print(x, end=\"\")\n",
    "\n",
    "print()\n",
    "\n",
    "#f)\n",
    "my_table.execute(\"SELECT City,Country from Periodic_data where (Season = 'Fall' and Temperature > 20) Order BY Temperature ASC \")\n",
    "results = my_table.fetchall()\n",
    "for x in results:                                \n",
    "  print(x, end=\"\")\n",
    "\n",
    "print()\n",
    "\n",
    "#g)\n",
    "my_table.execute(\"SELECT sum(Rainfall) from Periodic_data where City = 'Cairo'\")\n",
    "results = my_table.fetchall()\n",
    "for x in results:\n",
    "  print(x, end=\"\")                                     \n",
    "\n",
    "print()\n",
    "\n",
    "#h)\n",
    "my_table.execute(\"SELECT Season, sum(Rainfall) from Periodic_data group by Season\")\n",
    "results = my_table.fetchall()\n",
    "for x in results:                                   \n",
    "  print(x, end=\"\")\n",
    "\n",
    "conn.close()\n"
   ]
  },
  {
   "cell_type": "markdown",
   "id": "20909cbb",
   "metadata": {},
   "source": [
    "Question 9"
   ]
  },
  {
   "cell_type": "code",
   "execution_count": 30,
   "id": "04c52d14",
   "metadata": {},
   "outputs": [
    {
     "name": "stdout",
     "output_type": "stream",
     "text": [
      "['THE', 'QUICK', 'BROWN', 'FOX', 'JUMPS', 'OVER', 'THE', 'LAZY', 'DOG']\n",
      "['the', 'quick', 'brown', 'fox', 'jumps', 'over', 'the', 'lazy', 'dog']\n",
      "[3, 5, 5, 3, 5, 4, 3, 4, 3]\n",
      "[['THE', 'the', 3], ['QUICK', 'quick', 5], ['BROWN', 'brown', 5], ['FOX', 'fox', 3], ['JUMPS', 'jumps', 5], ['OVER', 'over', 4], ['THE', 'the', 3], ['LAZY', 'lazy', 4], ['DOG', 'dog', 3]]\n",
      "['The', 'quick', 'brown', 'fox', 'jumps', 'over', 'the', 'lazy', 'dog']\n"
     ]
    }
   ],
   "source": [
    "words = ['The', 'quick', 'brown', 'fox', 'jumps', 'over', 'the', 'lazy', 'dog']\n",
    "lst = []\n",
    "lst1 = []\n",
    "lst2 = []\n",
    "lst3 = []\n",
    "lst5 = []\n",
    "for x in words:\n",
    "    lst.append(x.upper())\n",
    "    lst1.append(x.lower())\n",
    "    lst2.append(len(x))\n",
    "    lst4 = [x.upper(), x.lower(), len(x)]\n",
    "    lst3.append(lst4)\n",
    "    if len(x) >= 3:\n",
    "        lst5.append(x)\n",
    "\n",
    "print(lst)\n",
    "print(lst1)\n",
    "print(lst2)\n",
    "print(lst3)\n",
    "print(lst5)"
   ]
  }
 ],
 "metadata": {
  "kernelspec": {
   "display_name": "Python 3 (ipykernel)",
   "language": "python",
   "name": "python3"
  },
  "language_info": {
   "codemirror_mode": {
    "name": "ipython",
    "version": 3
   },
   "file_extension": ".py",
   "mimetype": "text/x-python",
   "name": "python",
   "nbconvert_exporter": "python",
   "pygments_lexer": "ipython3",
   "version": "3.9.12"
  }
 },
 "nbformat": 4,
 "nbformat_minor": 5
}
